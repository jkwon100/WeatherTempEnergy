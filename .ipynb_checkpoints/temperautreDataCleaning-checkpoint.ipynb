{
 "cells": [
  {
   "cell_type": "code",
   "execution_count": null,
   "id": "e9e622fc-23c6-4d2f-b189-7b26a8154e97",
   "metadata": {
    "tags": []
   },
   "outputs": [],
   "source": [
    "import pandas as pd\n",
    "\n",
    "# Load city temperature data\n",
    "city_path = \"temperatureData/GlobalLandTemperaturesByCity.csv\"\n",
    "df_city = pd.read_csv(city_path, parse_dates=['dt'])\n",
    "\n",
    "# Filter for US cities and years 1998–2019\n",
    "df_city_us = df_city[\n",
    "    (df_city['Country'] == 'United States') &\n",
    "    (df_city['dt'].dt.year >= 1998) &\n",
    "    (df_city['dt'].dt.year <= 2019)\n",
    "].dropna(subset=['AverageTemperature'])\n",
    "\n",
    "# Rename and select relevant columns\n",
    "df_city_us = df_city_us.rename(columns={\n",
    "    'dt': 'Date',\n",
    "    'City': 'Location',\n",
    "    'AverageTemperature': 'Temp_C'\n",
    "})[['Date', 'Location', 'Temp_C']]\n",
    "\n",
    "print(\"✅ Cleaned city-level temperature data loaded\")\n",
    "df_city_us.head()\n"
   ]
  },
  {
   "cell_type": "code",
   "execution_count": null,
   "id": "74b33ef0-abdd-4423-94e4-d2876ae47c41",
   "metadata": {
    "tags": []
   },
   "outputs": [],
   "source": [
    "# PJM region to city mapping\n",
    "region_to_cities = {\n",
    "    \"AEP\": [\"Akron\", \"Columbus\", \"Dayton\", \"Charleston\", \"Indianapolis\", \"Lexington Fayette\", \"Huntington\"],\n",
    "    \"COMED\": [\"Chicago\", \"Rockford\", \"Aurora\", \"Naperville\", \"Joliet\"],\n",
    "    \"DAYTON\": [\"Dayton\"],\n",
    "    \"DEOK\": [\"Cincinnati\", \"Lexington Fayette\"],\n",
    "    \"DOM\": [\"Charlotte\", \"Raleigh\", \"Richmond\", \"Virginia Beach\", \"Washington\"],\n",
    "    \"DUQ\": [\"Pittsburgh\"],\n",
    "    \"EKPC\": [\"Lexington Fayette\", \"Louisville\"],\n",
    "    \"FE\": [\"Akron\", \"Allentown\", \"Cleveland\", \"Newark\", \"Baltimore\"],\n",
    "    \"NI\": [\"South Bend\", \"Fort Wayne\"],\n",
    "    \"PJM_Load\": [\"Columbus\", \"Detroit\", \"Charlotte\", \"Chicago\", \"Baltimore\",\n",
    "                 \"Philadelphia\", \"Cleveland\", \"Indianapolis\", \"Louisville\",\n",
    "                 \"Nashville\", \"Jersey City\", \"Akron\"],\n",
    "    \"PJME\": [\"Baltimore\", \"Newark\", \"Jersey City\", \"Washington\"],\n",
    "    \"PJMW\": [\"Charleston\", \"Lexington Fayette\", \"Columbus\", \"Dayton\"]\n",
    "}\n",
    "\n",
    "# Reverse mapping: city → region\n",
    "city_to_region = {\n",
    "    city: region for region, cities in region_to_cities.items() for city in cities\n",
    "}\n"
   ]
  },
  {
   "cell_type": "code",
   "execution_count": null,
   "id": "7ebbf473-c71d-4845-90f2-78e6c964ed6d",
   "metadata": {
    "tags": []
   },
   "outputs": [],
   "source": [
    "# Add region column based on city name\n",
    "df_city_us['Region'] = df_city_us['Location'].map(city_to_region)\n",
    "\n",
    "print(\"✅ Region column added\")\n",
    "df_city_us.head()\n"
   ]
  },
  {
   "cell_type": "code",
   "execution_count": null,
   "id": "dc85ff89-425b-42f0-8614-922133730aa7",
   "metadata": {
    "tags": []
   },
   "outputs": [],
   "source": [
    "# Save with region info\n",
    "with_region_path = \"temperatureData_clean/US_Temp_City_Region_1998_2019.csv\"\n",
    "df_city_us.to_csv(with_region_path, index=False)\n",
    "\n",
    "print(f\"✅ Saved with region info: {with_region_path}\")\n"
   ]
  },
  {
   "cell_type": "code",
   "execution_count": null,
   "id": "019641fc-83ee-430d-808f-02feaa57ad25",
   "metadata": {
    "tags": []
   },
   "outputs": [],
   "source": [
    "# Drop Region column to get clean data without region info\n",
    "df_city_clean = df_city_us.drop(columns='Region')\n",
    "\n",
    "# Save cleaned version\n",
    "clean_path = \"temperatureData_clean/US_Temp_CityOnly_Clean_1998_2019.csv\"\n",
    "df_city_clean.to_csv(clean_path, index=False)\n",
    "\n",
    "print(f\"✅ Saved clean dataset without region info: {clean_path}\")\n"
   ]
  }
 ],
 "metadata": {
  "kernelspec": {
   "display_name": "Python 3 (ipykernel)",
   "language": "python",
   "name": "python3"
  },
  "language_info": {
   "codemirror_mode": {
    "name": "ipython",
    "version": 3
   },
   "file_extension": ".py",
   "mimetype": "text/x-python",
   "name": "python",
   "nbconvert_exporter": "python",
   "pygments_lexer": "ipython3",
   "version": "3.11.4"
  }
 },
 "nbformat": 4,
 "nbformat_minor": 5
}
