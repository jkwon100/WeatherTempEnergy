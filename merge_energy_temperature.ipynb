{
 "cells": [
  {
   "cell_type": "code",
   "execution_count": 1,
   "id": "c980e1b1-ca92-423a-884a-ac7990cf0c4b",
   "metadata": {
    "tags": []
   },
   "outputs": [],
   "source": [
    "# Imports and Setup\n",
    "import matplotlib.pyplot as plt\n",
    "import pandas as pd\n",
    "import os\n",
    "\n",
    "# Folder paths\n",
    "energy_dir = \"energyData_clean\"\n",
    "temp_dir = \"temperatureData_clean\"\n",
    "output_dir = \"merged_energy_temp\"\n",
    "os.makedirs(output_dir, exist_ok=True)"
   ]
  },
  {
   "cell_type": "code",
   "execution_count": 2,
   "id": "3a8a6948-fb5d-4516-9b21-9c59fdabde38",
   "metadata": {},
   "outputs": [],
   "source": [
    "# Interpolation Helper Function\n",
    "def interpolate_temp(temp_df, target_date):\n",
    "    if target_date < temp_df.index.min() or target_date > temp_df.index.max():\n",
    "        return None\n",
    "\n",
    "    before_df = temp_df[temp_df.index <= target_date]\n",
    "    after_df = temp_df[temp_df.index > target_date]\n",
    "\n",
    "    if before_df.empty or after_df.empty:\n",
    "        return None\n",
    "\n",
    "    before = before_df.iloc[-1]\n",
    "    after = after_df.iloc[0]\n",
    "\n",
    "    total_days = (after.name - before.name).days\n",
    "    if total_days == 0:\n",
    "        return before['Temp_C']\n",
    "\n",
    "    delta_temp = after['Temp_C'] - before['Temp_C']\n",
    "    offset_days = (target_date - before.name).days\n",
    "\n",
    "    return before['Temp_C'] + (delta_temp / total_days) * offset_days"
   ]
  },
  {
   "cell_type": "code",
   "execution_count": 3,
   "id": "3e5d83b9-765a-4097-abb9-349a4efa39a2",
   "metadata": {},
   "outputs": [],
   "source": [
    "# Plotting Helper Function\n",
    "def plot_temperature_trend(df, region):\n",
    "    plt.figure(figsize=(12, 4))\n",
    "    plt.plot(df.index, df['Estimated_Temp_C'], label='Estimated Temp (°C)', color='tab:blue')\n",
    "    plt.title(f\"{region} - Interpolated Temperature\")\n",
    "    plt.xlabel(\"Date\")\n",
    "    plt.ylabel(\"Temp (°C)\")\n",
    "    plt.grid(True)\n",
    "    plt.tight_layout()\n",
    "    plt.legend()\n",
    "    plt.show()"
   ]
  },
  {
   "cell_type": "code",
   "execution_count": 4,
   "id": "0a4e0dc6-cbcf-48c3-83e8-d5c93fea1cf4",
   "metadata": {},
   "outputs": [
    {
     "name": "stdout",
     "output_type": "stream",
     "text": [
      "🔍 AEP: 0 missing temperature values\n",
      "✅ Saved merged file: merged_energy_temp\\AEP_merged.csv\n",
      "🔍 COMED: 0 missing temperature values\n",
      "✅ Saved merged file: merged_energy_temp\\COMED_merged.csv\n",
      "🔍 DAYTON: 0 missing temperature values\n",
      "✅ Saved merged file: merged_energy_temp\\DAYTON_merged.csv\n",
      "🔍 DEOK: 0 missing temperature values\n",
      "✅ Saved merged file: merged_energy_temp\\DEOK_merged.csv\n",
      "🔍 DOM: 0 missing temperature values\n",
      "✅ Saved merged file: merged_energy_temp\\DOM_merged.csv\n",
      "🔍 DUQ: 0 missing temperature values\n",
      "✅ Saved merged file: merged_energy_temp\\DUQ_merged.csv\n",
      "🔍 EKPC: 0 missing temperature values\n",
      "✅ Saved merged file: merged_energy_temp\\EKPC_merged.csv\n",
      "🔍 FE: 0 missing temperature values\n",
      "✅ Saved merged file: merged_energy_temp\\FE_merged.csv\n",
      "🔍 NI: 0 missing temperature values\n",
      "✅ Saved merged file: merged_energy_temp\\NI_merged.csv\n",
      "🔍 PJME: 0 missing temperature values\n",
      "✅ Saved merged file: merged_energy_temp\\PJME_merged.csv\n",
      "🔍 PJMW: 0 missing temperature values\n",
      "✅ Saved merged file: merged_energy_temp\\PJMW_merged.csv\n",
      "🔍 PJM: 0 missing temperature values\n",
      "✅ Saved merged file: merged_energy_temp\\PJM_merged.csv\n"
     ]
    }
   ],
   "source": [
    "# Process Each Energy File\n",
    "for filename in os.listdir(energy_dir):\n",
    "    if not filename.endswith(\"_hourly_daily.csv\"):\n",
    "        continue\n",
    "\n",
    "    region = filename.split(\"_\")[0]\n",
    "    energy_path = os.path.join(energy_dir, filename)\n",
    "    temp_files = [f for f in os.listdir(temp_dir) if f.startswith(region + \"_\") and f.endswith(\".csv\")]\n",
    "    if not temp_files:\n",
    "        print(f\"⚠️ No temp file found for {region}\")\n",
    "        continue\n",
    "\n",
    "    temp_path = os.path.join(temp_dir, temp_files[0])\n",
    "\n",
    "    # Load Data\n",
    "    energy_df = pd.read_csv(energy_path, index_col=0, parse_dates=True)\n",
    "    temp_df = pd.read_csv(temp_path, parse_dates=[\"Date\"])\n",
    "    temp_df = temp_df.groupby(\"Date\")[\"Temp_C\"].mean().to_frame()\n",
    "    temp_df.index = pd.to_datetime(temp_df.index)\n",
    "\n",
    "    # print(f\"Energy Date Range for {region}: {energy_df.index.min().date()} → {energy_df.index.max().date()}\")\n",
    "    # print(f\"Temperature Date Range for {region}: {temp_df.index.min().date()} → {temp_df.index.max().date()}\")\n",
    "    \n",
    "    # Clip energy data to temperature date range\n",
    "    energy_df = energy_df[(energy_df.index > temp_df.index.min()) & (energy_df.index < temp_df.index.max())]\n",
    "\n",
    "\n",
    "    # Interpolate Temperature\n",
    "    energy_df[\"Estimated_Temp_C\"] = energy_df.index.map(lambda d: interpolate_temp(temp_df, d))\n",
    "\n",
    "    # Cell 5: Validation - Check for NaNs\n",
    "    nan_count = energy_df['Estimated_Temp_C'].isna().sum()\n",
    "    print(f\"🔍 {region}: {nan_count} missing temperature values\")\n",
    "\n",
    "    if nan_count > 0:\n",
    "        print(\"⚠️ Some temperature values were not interpolated. Check date coverage.\")\n",
    "\n",
    "    # plot_temperature_trend(energy_df, region)\n",
    "\n",
    "    # Save Output\n",
    "    output_path = os.path.join(output_dir, f\"{region}_merged.csv\")\n",
    "    energy_df.to_csv(output_path)\n",
    "    print(f\"✅ Saved merged file: {output_path}\")"
   ]
  },
  {
   "cell_type": "code",
   "execution_count": null,
   "id": "cf2cd6e8-0542-48da-b322-6e2ed6757e2e",
   "metadata": {},
   "outputs": [],
   "source": []
  },
  {
   "cell_type": "code",
   "execution_count": null,
   "id": "84f9390e-bbd1-4afa-9b80-c24d134b9cfd",
   "metadata": {},
   "outputs": [],
   "source": []
  }
 ],
 "metadata": {
  "kernelspec": {
   "display_name": "Python 3 (ipykernel)",
   "language": "python",
   "name": "python3"
  },
  "language_info": {
   "codemirror_mode": {
    "name": "ipython",
    "version": 3
   },
   "file_extension": ".py",
   "mimetype": "text/x-python",
   "name": "python",
   "nbconvert_exporter": "python",
   "pygments_lexer": "ipython3",
   "version": "3.11.4"
  }
 },
 "nbformat": 4,
 "nbformat_minor": 5
}
