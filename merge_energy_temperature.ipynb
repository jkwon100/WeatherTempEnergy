{
 "cells": [
  {
   "cell_type": "code",
   "execution_count": 1,
   "id": "c980e1b1-ca92-423a-884a-ac7990cf0c4b",
   "metadata": {
    "tags": []
   },
   "outputs": [],
   "source": [
    "# Imports and Setup\n",
    "from pathlib import Path\n",
    "import pandas as pd\n",
    "import matplotlib.pyplot as plt\n",
    "\n",
    "# Folder paths\n",
    "energy_dir  = Path(\"energyData_clean\")\n",
    "temp_dir    = Path(\"temperatureData_filled\")    # gap-free daily temps\n",
    "output_dir  = Path(\"merged_energy_temp\")\n",
    "output_dir.mkdir(exist_ok=True)"
   ]
  },
  {
   "cell_type": "code",
   "execution_count": 2,
   "id": "3e5d83b9-765a-4097-abb9-349a4efa39a2",
   "metadata": {},
   "outputs": [],
   "source": [
    "# Plotting Helper Function\n",
    "def plot_temperature_trend(df: pd.DataFrame, region: str) -> None:\n",
    "    plt.figure(figsize=(12, 4))\n",
    "    plt.plot(df.index, df[\"Estimated_Temp_C\"], lw=0.6, label=\"Estimated Temp (°C)\")\n",
    "    plt.title(f\"{region} – Temperature mapped onto energy index\")\n",
    "    plt.xlabel(\"Date-Time\")\n",
    "    plt.ylabel(\"Temp (°C)\")\n",
    "    plt.grid(True)\n",
    "    plt.tight_layout()\n",
    "    plt.legend()\n",
    "    plt.show()"
   ]
  },
  {
   "cell_type": "code",
   "execution_count": 3,
   "id": "0a4e0dc6-cbcf-48c3-83e8-d5c93fea1cf4",
   "metadata": {},
   "outputs": [
    {
     "name": "stdout",
     "output_type": "stream",
     "text": [
      "🔍 AEP: 0 missing temperature values after merge\n",
      "✅  Saved merged file → merged_energy_temp\\AEP_merged.csv\n",
      "🔍 COMED: 0 missing temperature values after merge\n",
      "✅  Saved merged file → merged_energy_temp\\COMED_merged.csv\n",
      "🔍 DAYTON: 0 missing temperature values after merge\n",
      "✅  Saved merged file → merged_energy_temp\\DAYTON_merged.csv\n",
      "🔍 DEOK: 0 missing temperature values after merge\n",
      "✅  Saved merged file → merged_energy_temp\\DEOK_merged.csv\n",
      "🔍 DOM: 0 missing temperature values after merge\n",
      "✅  Saved merged file → merged_energy_temp\\DOM_merged.csv\n",
      "🔍 DUQ: 0 missing temperature values after merge\n",
      "✅  Saved merged file → merged_energy_temp\\DUQ_merged.csv\n",
      "🔍 EKPC: 0 missing temperature values after merge\n",
      "✅  Saved merged file → merged_energy_temp\\EKPC_merged.csv\n",
      "🔍 FE: 0 missing temperature values after merge\n",
      "✅  Saved merged file → merged_energy_temp\\FE_merged.csv\n",
      "🔍 NI: 0 missing temperature values after merge\n",
      "✅  Saved merged file → merged_energy_temp\\NI_merged.csv\n",
      "🔍 PJME: 0 missing temperature values after merge\n",
      "✅  Saved merged file → merged_energy_temp\\PJME_merged.csv\n",
      "🔍 PJMW: 0 missing temperature values after merge\n",
      "✅  Saved merged file → merged_energy_temp\\PJMW_merged.csv\n",
      "🔍 PJM: 0 missing temperature values after merge\n",
      "✅  Saved merged file → merged_energy_temp\\PJM_merged.csv\n"
     ]
    }
   ],
   "source": [
    "# Process Each Energy File\n",
    "for efile in energy_dir.glob(\"*_hourly_daily.csv\"):\n",
    "    region = efile.stem.split(\"_\")[0]          # e.g. \"AEP\"\n",
    "\n",
    "    tfile = temp_dir / f\"{region}_filled.csv\"\n",
    "    if not tfile.exists():\n",
    "        print(f\"⚠️  No filled temp file for {region}\")\n",
    "        continue\n",
    "\n",
    "    # ── Load data\n",
    "    energy_df = pd.read_csv(efile, index_col=0, parse_dates=True).sort_index()\n",
    "    temp_df   = pd.read_csv(tfile, index_col=0, parse_dates=True).sort_index()\n",
    "\n",
    "    # ── Clip energy rows to temperature coverage\n",
    "    energy_df = energy_df.loc[\n",
    "        (energy_df.index >= temp_df.index.min()) &\n",
    "        (energy_df.index <= temp_df.index.max())\n",
    "    ]\n",
    "\n",
    "    # ── Map temperature by calendar day (ignore time-of-day)\n",
    "    temp_series = temp_df[\"Temp_C\"]\n",
    "    energy_df[\"Estimated_Temp_C\"] = energy_df.index.normalize().map(temp_series)\n",
    "\n",
    "    # ── Validation\n",
    "    nan_count = energy_df[\"Estimated_Temp_C\"].isna().sum()\n",
    "    print(f\"🔍 {region}: {nan_count} missing temperature values after merge\")\n",
    "    if nan_count:\n",
    "        print(\"⚠️  Unexpected NaNs – check temp file completeness or date range.\")\n",
    "\n",
    "    # plot_temperature_trend(energy_df, region)   # ← uncomment for a quick visual\n",
    "\n",
    "    # ── Save merged file\n",
    "    out_path = output_dir / f\"{region}_merged.csv\"\n",
    "    energy_df.to_csv(out_path)\n",
    "    print(f\"✅  Saved merged file → {out_path}\")"
   ]
  },
  {
   "cell_type": "code",
   "execution_count": null,
   "id": "cf2cd6e8-0542-48da-b322-6e2ed6757e2e",
   "metadata": {},
   "outputs": [],
   "source": []
  },
  {
   "cell_type": "code",
   "execution_count": null,
   "id": "84f9390e-bbd1-4afa-9b80-c24d134b9cfd",
   "metadata": {},
   "outputs": [],
   "source": []
  }
 ],
 "metadata": {
  "kernelspec": {
   "display_name": "Python 3 (ipykernel)",
   "language": "python",
   "name": "python3"
  },
  "language_info": {
   "codemirror_mode": {
    "name": "ipython",
    "version": 3
   },
   "file_extension": ".py",
   "mimetype": "text/x-python",
   "name": "python",
   "nbconvert_exporter": "python",
   "pygments_lexer": "ipython3",
   "version": "3.11.4"
  }
 },
 "nbformat": 4,
 "nbformat_minor": 5
}
