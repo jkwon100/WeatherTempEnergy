{
 "cells": [
  {
   "cell_type": "code",
   "execution_count": 1,
   "id": "e94daf35-0611-4327-ad7b-7e55f37ca581",
   "metadata": {},
   "outputs": [],
   "source": [
    "import pandas as pd\n",
    "import os\n",
    "from collections import defaultdict"
   ]
  },
  {
   "cell_type": "code",
   "execution_count": 2,
   "id": "4681d787-5c6f-4c7b-a568-53ca23ae4e6e",
   "metadata": {},
   "outputs": [],
   "source": [
    "# Load city-level temperature dataset\n",
    "city_path = \"temperatureData/GlobalLandTemperaturesByCity.csv\"\n",
    "df_city = pd.read_csv(city_path, parse_dates=[\"dt\"])\n",
    "\n",
    "# Filter for U.S. cities and drop missing temperature values\n",
    "df_city = df_city[df_city[\"Country\"] == \"United States\"]\n",
    "df_city = df_city.rename(columns={\n",
    "    \"dt\": \"Date\",\n",
    "    \"City\": \"Location\",\n",
    "    \"AverageTemperature\": \"Temp_C\"\n",
    "})[[\"Date\", \"Location\", \"Temp_C\"]].dropna()\n"
   ]
  },
  {
   "cell_type": "code",
   "execution_count": 3,
   "id": "f1449ff7-37b7-4c95-abe2-c9b701570b9b",
   "metadata": {},
   "outputs": [],
   "source": [
    "# Define cities associated with each PJM region\n",
    "region_to_cities = {\n",
    "    \"AEP\": [\"Akron\", \"Columbus\", \"Dayton\", \"Charleston\", \"Indianapolis\", \"Lexington Fayette\", \"Huntington\"],\n",
    "    \"COMED\": [\"Chicago\", \"Rockford\", \"Aurora\", \"Naperville\", \"Joliet\"],\n",
    "    \"DAYTON\": [\"Dayton\"],\n",
    "    \"DEOK\": [\"Cincinnati\", \"Lexington Fayette\"],\n",
    "    \"DOM\": [\"Charlotte\", \"Raleigh\", \"Richmond\", \"Virginia Beach\", \"Washington\"],\n",
    "    \"DUQ\": [\"Pittsburgh\"],\n",
    "    \"EKPC\": [\"Lexington Fayette\", \"Louisville\"],\n",
    "    \"FE\": [\"Akron\", \"Allentown\", \"Cleveland\", \"Newark\", \"Baltimore\"],\n",
    "    \"NI\": [\"South Bend\", \"Fort Wayne\"],\n",
    "    \"PJM_Load\": [\"Columbus\", \"Detroit\", \"Charlotte\", \"Chicago\", \"Baltimore\",\n",
    "                 \"Philadelphia\", \"Cleveland\", \"Indianapolis\", \"Louisville\",\n",
    "                 \"Nashville\", \"Jersey City\", \"Akron\"],\n",
    "    \"PJME\": [\"Baltimore\", \"Newark\", \"Jersey City\", \"Washington\"],\n",
    "    \"PJMW\": [\"Charleston\", \"Lexington Fayette\", \"Columbus\", \"Dayton\"]\n",
    "}\n"
   ]
  },
  {
   "cell_type": "code",
   "execution_count": 4,
   "id": "d05a973c-dda2-4a92-93bc-e2eedd0fae81",
   "metadata": {
    "tags": []
   },
   "outputs": [
    {
     "name": "stdout",
     "output_type": "stream",
     "text": [
      "✅ Saved AEP temperature data → temperatureData_clean/AEP_2004-10-01_to_2018-08-03.csv\n",
      "✅ Saved COMED temperature data → temperatureData_clean/COMED_2011-01-01_to_2018-08-03.csv\n",
      "✅ Saved DAYTON temperature data → temperatureData_clean/DAYTON_2004-10-01_to_2018-08-03.csv\n",
      "✅ Saved DEOK temperature data → temperatureData_clean/DEOK_2012-01-01_to_2018-08-03.csv\n",
      "✅ Saved DOM temperature data → temperatureData_clean/DOM_2005-05-01_to_2018-08-03.csv\n",
      "✅ Saved DUQ temperature data → temperatureData_clean/DUQ_2005-01-01_to_2018-08-03.csv\n",
      "✅ Saved EKPC temperature data → temperatureData_clean/EKPC_2013-06-01_to_2018-08-03.csv\n",
      "✅ Saved FE temperature data → temperatureData_clean/FE_2011-06-01_to_2018-08-03.csv\n",
      "✅ Saved NI temperature data → temperatureData_clean/NI_2004-05-01_to_2011-01-01.csv\n",
      "✅ Saved PJME temperature data → temperatureData_clean/PJME_2002-01-01_to_2018-08-03.csv\n",
      "✅ Saved PJMW temperature data → temperatureData_clean/PJMW_2002-04-01_to_2018-08-03.csv\n",
      "✅ Saved PJM temperature data → temperatureData_clean/PJM_1998-04-01_to_2002-01-01.csv\n"
     ]
    }
   ],
   "source": [
    "# Create output folder\n",
    "os.makedirs(\"temperatureData_clean\", exist_ok=True)\n",
    "\n",
    "# Loop through all cleaned energy files\n",
    "for energy_file in os.listdir(\"energyData_clean\"):\n",
    "    if not energy_file.endswith(\"_daily.csv\"):\n",
    "        continue\n",
    "\n",
    "    # Extract and normalize region from filename\n",
    "    region = energy_file.split(\"_\")[0]\n",
    "    if region == \"PJM\":\n",
    "        region = \"PJM_Load\"\n",
    "\n",
    "    if region not in region_to_cities:\n",
    "        print(f\"⚠️ Skipping unrecognized region in file: {energy_file}\")\n",
    "        continue\n",
    "\n",
    "    # Load energy data to determine actual date range\n",
    "    energy_path = os.path.join(\"energyData_clean\", energy_file)\n",
    "    energy_df = pd.read_csv(energy_path, index_col=0, parse_dates=True)\n",
    "    date_min, date_max = energy_df.index.min(), energy_df.index.max()\n",
    "\n",
    "    # Filter temperature data for this region's cities and date range\n",
    "    region_cities = region_to_cities[region]\n",
    "    filtered_temp = df_city[\n",
    "        (df_city[\"Location\"].isin(region_cities)) &\n",
    "        (df_city[\"Date\"] >= date_min) &\n",
    "        (df_city[\"Date\"] <= date_max)\n",
    "    ].copy()\n",
    "\n",
    "    if filtered_temp.empty:\n",
    "        print(f\"⚠️ No temperature data found for {region} ({date_min.date()} → {date_max.date()})\")\n",
    "        continue\n",
    "\n",
    "    # Format date range in filename\n",
    "    date_str_min = date_min.strftime(\"%Y-%m-%d\")\n",
    "    date_str_max = date_max.strftime(\"%Y-%m-%d\")\n",
    "\n",
    "    # Output name uses display name, so revert \"PJM_Load\" → \"PJM\"\n",
    "    display_region = \"PJM\" if region == \"PJM_Load\" else region\n",
    "    out_path = f\"temperatureData_clean/{display_region}_{date_str_min}_to_{date_str_max}.csv\"\n",
    "    filtered_temp.to_csv(out_path, index=False)\n",
    "    print(f\"✅ Saved {display_region} temperature data → {out_path}\")"
   ]
  },
  {
   "cell_type": "code",
   "execution_count": null,
   "id": "45d1dff8-471a-4c66-98f1-7ef04cf6de45",
   "metadata": {
    "tags": []
   },
   "outputs": [],
   "source": []
  }
 ],
 "metadata": {
  "kernelspec": {
   "display_name": "Python 3 (ipykernel)",
   "language": "python",
   "name": "python3"
  },
  "language_info": {
   "codemirror_mode": {
    "name": "ipython",
    "version": 3
   },
   "file_extension": ".py",
   "mimetype": "text/x-python",
   "name": "python",
   "nbconvert_exporter": "python",
   "pygments_lexer": "ipython3",
   "version": "3.11.4"
  }
 },
 "nbformat": 4,
 "nbformat_minor": 5
}
