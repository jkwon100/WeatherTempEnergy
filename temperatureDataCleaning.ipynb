{
 "cells": [
  {
   "cell_type": "code",
   "execution_count": 1,
   "id": "e94daf35-0611-4327-ad7b-7e55f37ca581",
   "metadata": {},
   "outputs": [],
   "source": [
    "# Imports & load full city-level dataset\n",
    "import pandas as pd\n",
    "import os\n",
    "\n",
    "city_path = \"temperatureData/GlobalLandTemperaturesByCity.csv\"\n",
    "df_city = pd.read_csv(city_path, parse_dates=[\"dt\"])\n",
    "\n",
    "# Keep U.S. rows and rename columns\n",
    "df_city = (\n",
    "    df_city[df_city[\"Country\"] == \"United States\"]\n",
    "      .rename(columns={\"dt\": \"Date\",\n",
    "                       \"City\": \"Location\",\n",
    "                       \"AverageTemperature\": \"Temp_C\"})\n",
    "      [[\"Date\", \"Location\", \"Temp_C\"]]\n",
    "      .dropna(subset=[\"Temp_C\"])\n",
    ")"
   ]
  },
  {
   "cell_type": "code",
   "execution_count": 2,
   "id": "f1449ff7-37b7-4c95-abe2-c9b701570b9b",
   "metadata": {},
   "outputs": [],
   "source": [
    "# Define cities associated with each PJM region\n",
    "region_to_cities = {\n",
    "    \"AEP\": [\"Akron\", \"Columbus\", \"Dayton\", \"Charleston\",\n",
    "            \"Indianapolis\", \"Lexington Fayette\", \"Huntington\"],\n",
    "    \"COMED\": [\"Chicago\", \"Rockford\", \"Aurora\", \"Naperville\", \"Joliet\"],\n",
    "    \"DAYTON\": [\"Dayton\"],\n",
    "    \"DEOK\": [\"Cincinnati\", \"Lexington Fayette\"],\n",
    "    \"DOM\": [\"Charlotte\", \"Raleigh\", \"Richmond\",\n",
    "            \"Virginia Beach\", \"Washington\"],\n",
    "    \"DUQ\": [\"Pittsburgh\"],\n",
    "    \"EKPC\": [\"Lexington Fayette\", \"Louisville\"],\n",
    "    \"FE\": [\"Akron\", \"Allentown\", \"Cleveland\", \"Newark\", \"Baltimore\"],\n",
    "    \"NI\": [\"South Bend\", \"Fort Wayne\"],\n",
    "    \"PJM_Load\": [\"Columbus\", \"Detroit\", \"Charlotte\", \"Chicago\", \"Baltimore\",\n",
    "                 \"Philadelphia\", \"Cleveland\", \"Indianapolis\", \"Louisville\",\n",
    "                 \"Nashville\", \"Jersey City\", \"Akron\"],\n",
    "    \"PJME\": [\"Baltimore\", \"Newark\", \"Jersey City\", \"Washington\"],\n",
    "    \"PJMW\": [\"Charleston\", \"Lexington Fayette\", \"Columbus\", \"Dayton\"],\n",
    "}\n",
    "\n"
   ]
  },
  {
   "cell_type": "code",
   "execution_count": 3,
   "id": "d05a973c-dda2-4a92-93bc-e2eedd0fae81",
   "metadata": {
    "tags": []
   },
   "outputs": [
    {
     "name": "stdout",
     "output_type": "stream",
     "text": [
      "✅  Saved AEP temperature data → temperatureData_clean/AEP_1743-11-01_to_2013-09-01.csv\n",
      "✅  Saved COMED temperature data → temperatureData_clean/COMED_1743-11-01_to_2013-09-01.csv\n",
      "✅  Saved DAYTON temperature data → temperatureData_clean/DAYTON_1743-11-01_to_2013-09-01.csv\n",
      "✅  Saved DEOK temperature data → temperatureData_clean/DEOK_1743-11-01_to_2013-09-01.csv\n",
      "✅  Saved DOM temperature data → temperatureData_clean/DOM_1743-11-01_to_2013-09-01.csv\n",
      "✅  Saved DUQ temperature data → temperatureData_clean/DUQ_1743-11-01_to_2013-09-01.csv\n",
      "✅  Saved EKPC temperature data → temperatureData_clean/EKPC_1743-11-01_to_2013-09-01.csv\n",
      "✅  Saved FE temperature data → temperatureData_clean/FE_1743-11-01_to_2013-09-01.csv\n",
      "✅  Saved NI temperature data → temperatureData_clean/NI_1743-11-01_to_2013-09-01.csv\n",
      "✅  Saved PJM temperature data → temperatureData_clean/PJM_1743-11-01_to_2013-09-01.csv\n",
      "✅  Saved PJME temperature data → temperatureData_clean/PJME_1743-11-01_to_2013-09-01.csv\n",
      "✅  Saved PJMW temperature data → temperatureData_clean/PJMW_1743-11-01_to_2013-09-01.csv\n"
     ]
    }
   ],
   "source": [
    "# Create output folder\n",
    "os.makedirs(\"temperatureData_clean\", exist_ok=True)\n",
    "\n",
    "# Loop through all cleaned energy files\n",
    "for region, cities in region_to_cities.items():\n",
    "\n",
    "    region_temp = df_city[df_city[\"Location\"].isin(cities)].copy()\n",
    "\n",
    "    if region_temp.empty:\n",
    "        print(f\"⚠️  No temperature rows found for {region}\")\n",
    "        continue\n",
    "\n",
    "    date_min, date_max = region_temp[\"Date\"].min(), region_temp[\"Date\"].max()\n",
    "    date_str_min = date_min.strftime(\"%Y-%m-%d\")\n",
    "    date_str_max = date_max.strftime(\"%Y-%m-%d\")\n",
    "\n",
    "    # use \"PJM\" instead of \"PJM_Load\" in filename\n",
    "    file_region = \"PJM\" if region == \"PJM_Load\" else region\n",
    "    outfile = f\"temperatureData_clean/{file_region}_{date_str_min}_to_{date_str_max}.csv\"\n",
    "\n",
    "    region_temp.to_csv(outfile, index=False)\n",
    "    print(f\"✅  Saved {file_region} temperature data → {outfile}\")"
   ]
  },
  {
   "cell_type": "code",
   "execution_count": null,
   "id": "45d1dff8-471a-4c66-98f1-7ef04cf6de45",
   "metadata": {
    "tags": []
   },
   "outputs": [],
   "source": []
  }
 ],
 "metadata": {
  "kernelspec": {
   "display_name": "Python 3 (ipykernel)",
   "language": "python",
   "name": "python3"
  },
  "language_info": {
   "codemirror_mode": {
    "name": "ipython",
    "version": 3
   },
   "file_extension": ".py",
   "mimetype": "text/x-python",
   "name": "python",
   "nbconvert_exporter": "python",
   "pygments_lexer": "ipython3",
   "version": "3.11.4"
  }
 },
 "nbformat": 4,
 "nbformat_minor": 5
}
