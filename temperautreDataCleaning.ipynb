{
 "cells": [
  {
   "cell_type": "code",
   "execution_count": 1,
   "id": "e9e622fc-23c6-4d2f-b189-7b26a8154e97",
   "metadata": {
    "tags": []
   },
   "outputs": [],
   "source": [
    "import pandas as pd\n",
    "\n",
    "# Load city-level data\n",
    "city_path = \"temperatureData/GlobalLandTemperaturesByCity.csv\"\n",
    "df_city = pd.read_csv(city_path, parse_dates=['dt'])\n",
    "\n",
    "# Filter for US cities from 1998–2019 and drop rows with missing temperature\n",
    "df_city_us = df_city[\n",
    "    (df_city['Country'] == 'United States') &\n",
    "    (df_city['dt'].dt.year >= 1998) &\n",
    "    (df_city['dt'].dt.year <= 2019)\n",
    "].dropna(subset=['AverageTemperature'])\n",
    "\n",
    "# Standardize column names\n",
    "df_city_us = df_city_us.rename(columns={\n",
    "    'dt': 'Date',\n",
    "    'City': 'Location',\n",
    "    'AverageTemperature': 'Temp_C'\n",
    "})[['Date', 'Location', 'Temp_C']]\n"
   ]
  },
  {
   "cell_type": "code",
   "execution_count": 2,
   "id": "74b33ef0-abdd-4423-94e4-d2876ae47c41",
   "metadata": {
    "tags": []
   },
   "outputs": [],
   "source": [
    "region_to_cities = {\n",
    "    \"AEP\": [\"Akron\", \"Columbus\", \"Dayton\", \"Charleston\", \"Indianapolis\", \"Lexington Fayette\", \"Huntington\"],\n",
    "    \"COMED\": [\"Chicago\", \"Rockford\", \"Aurora\", \"Naperville\", \"Joliet\"],\n",
    "    \"DAYTON\": [\"Dayton\"],\n",
    "    \"DEOK\": [\"Cincinnati\", \"Lexington Fayette\"],\n",
    "    \"DOM\": [\"Charlotte\", \"Raleigh\", \"Richmond\", \"Virginia Beach\", \"Washington\"],\n",
    "    \"DUQ\": [\"Pittsburgh\"],\n",
    "    \"EKPC\": [\"Lexington Fayette\", \"Louisville\"],\n",
    "    \"FE\": [\"Akron\", \"Allentown\", \"Cleveland\", \"Newark\", \"Baltimore\"],\n",
    "    \"NI\": [\"South Bend\", \"Fort Wayne\"],\n",
    "    \"PJM_Load\": [\"Columbus\", \"Detroit\", \"Charlotte\", \"Chicago\", \"Baltimore\",\n",
    "                 \"Philadelphia\", \"Cleveland\", \"Indianapolis\", \"Louisville\",\n",
    "                 \"Nashville\", \"Jersey City\", \"Akron\"],\n",
    "    \"PJME\": [\"Baltimore\", \"Newark\", \"Jersey City\", \"Washington\"],\n",
    "    \"PJMW\": [\"Charleston\", \"Lexington Fayette\", \"Columbus\", \"Dayton\"]\n",
    "}\n",
    "\n",
    "city_to_region = {\n",
    "    city: region for region, cities in region_to_cities.items() for city in cities\n",
    "}\n"
   ]
  },
  {
   "cell_type": "code",
   "execution_count": 3,
   "id": "7ebbf473-c71d-4845-90f2-78e6c964ed6d",
   "metadata": {
    "tags": []
   },
   "outputs": [
    {
     "name": "stdout",
     "output_type": "stream",
     "text": [
      "✅ Filtered to cities with region info only\n"
     ]
    },
    {
     "data": {
      "text/html": [
       "<div>\n",
       "<style scoped>\n",
       "    .dataframe tbody tr th:only-of-type {\n",
       "        vertical-align: middle;\n",
       "    }\n",
       "\n",
       "    .dataframe tbody tr th {\n",
       "        vertical-align: top;\n",
       "    }\n",
       "\n",
       "    .dataframe thead th {\n",
       "        text-align: right;\n",
       "    }\n",
       "</style>\n",
       "<table border=\"1\" class=\"dataframe\">\n",
       "  <thead>\n",
       "    <tr style=\"text-align: right;\">\n",
       "      <th></th>\n",
       "      <th>Date</th>\n",
       "      <th>Location</th>\n",
       "      <th>Temp_C</th>\n",
       "      <th>Region</th>\n",
       "    </tr>\n",
       "  </thead>\n",
       "  <tbody>\n",
       "    <tr>\n",
       "      <th>140116</th>\n",
       "      <td>1998-01-01</td>\n",
       "      <td>Akron</td>\n",
       "      <td>1.729</td>\n",
       "      <td>PJM_Load</td>\n",
       "    </tr>\n",
       "    <tr>\n",
       "      <th>140117</th>\n",
       "      <td>1998-02-01</td>\n",
       "      <td>Akron</td>\n",
       "      <td>3.222</td>\n",
       "      <td>PJM_Load</td>\n",
       "    </tr>\n",
       "    <tr>\n",
       "      <th>140118</th>\n",
       "      <td>1998-03-01</td>\n",
       "      <td>Akron</td>\n",
       "      <td>5.075</td>\n",
       "      <td>PJM_Load</td>\n",
       "    </tr>\n",
       "    <tr>\n",
       "      <th>140119</th>\n",
       "      <td>1998-04-01</td>\n",
       "      <td>Akron</td>\n",
       "      <td>10.048</td>\n",
       "      <td>PJM_Load</td>\n",
       "    </tr>\n",
       "    <tr>\n",
       "      <th>140120</th>\n",
       "      <td>1998-05-01</td>\n",
       "      <td>Akron</td>\n",
       "      <td>18.207</td>\n",
       "      <td>PJM_Load</td>\n",
       "    </tr>\n",
       "  </tbody>\n",
       "</table>\n",
       "</div>"
      ],
      "text/plain": [
       "             Date Location  Temp_C    Region\n",
       "140116 1998-01-01    Akron   1.729  PJM_Load\n",
       "140117 1998-02-01    Akron   3.222  PJM_Load\n",
       "140118 1998-03-01    Akron   5.075  PJM_Load\n",
       "140119 1998-04-01    Akron  10.048  PJM_Load\n",
       "140120 1998-05-01    Akron  18.207  PJM_Load"
      ]
     },
     "execution_count": 3,
     "metadata": {},
     "output_type": "execute_result"
    }
   ],
   "source": [
    "# Map region info\n",
    "df_city_us['Region'] = df_city_us['Location'].map(city_to_region)\n",
    "\n",
    "# Keep only rows where Region is known (drop NaN)\n",
    "df_city_us = df_city_us.dropna(subset=['Region'])\n",
    "\n",
    "print(\"✅ Filtered to cities with region info only\")\n",
    "df_city_us.head()\n"
   ]
  },
  {
   "cell_type": "code",
   "execution_count": 4,
   "id": "dc85ff89-425b-42f0-8614-922133730aa7",
   "metadata": {
    "tags": []
   },
   "outputs": [
    {
     "name": "stdout",
     "output_type": "stream",
     "text": [
      "✅ Final dataset saved: temperatureData_clean/US_Temp_City_RegionOnly_1998_2019.csv\n"
     ]
    }
   ],
   "source": [
    "output_path = \"temperatureData_clean/US_Temp_City_RegionOnly_1998_2019.csv\"\n",
    "df_city_us.to_csv(output_path, index=False)\n",
    "\n",
    "print(f\"✅ Final dataset saved: {output_path}\")"
   ]
  }
 ],
 "metadata": {
  "kernelspec": {
   "display_name": "Python 3 (ipykernel)",
   "language": "python",
   "name": "python3"
  },
  "language_info": {
   "codemirror_mode": {
    "name": "ipython",
    "version": 3
   },
   "file_extension": ".py",
   "mimetype": "text/x-python",
   "name": "python",
   "nbconvert_exporter": "python",
   "pygments_lexer": "ipython3",
   "version": "3.11.4"
  }
 },
 "nbformat": 4,
 "nbformat_minor": 5
}
